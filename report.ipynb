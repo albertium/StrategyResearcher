{
 "cells": [
  {
   "cell_type": "code",
   "execution_count": 112,
   "metadata": {},
   "outputs": [
    {
     "name": "stdout",
     "output_type": "stream",
     "text": [
      "The autoreload extension is already loaded. To reload it, use:\n",
      "  %reload_ext autoreload\n"
     ]
    }
   ],
   "source": [
    "%load_ext autoreload\n",
    "%autoreload 2\n",
    "%matplotlib inline\n",
    "\n",
    "# import matplotlib\n",
    "\n",
    "from data_manager import DataManager\n",
    "import numpy as np\n",
    "import pandas as pd\n",
    "from datetime import datetime, timedelta"
   ]
  },
  {
   "cell_type": "code",
   "execution_count": 16,
   "metadata": {},
   "outputs": [
    {
     "data": {
      "text/plain": [
       "a    1\n",
       "b    1\n",
       "c    0\n",
       "Name: 1, dtype: int64"
      ]
     },
     "execution_count": 16,
     "metadata": {},
     "output_type": "execute_result"
    }
   ],
   "source": [
    "import pandas as pd\n",
    "\n",
    "a = pd.DataFrame({'a': [1, 2], 'b': [3, 4], 'c': [5, 6]})\n",
    "b = a.iloc[-1, :]\n",
    "sig = {'a': 0, 'b': 0, 'c': 0}\n",
    "\n"
   ]
  },
  {
   "cell_type": "code",
   "execution_count": 18,
   "metadata": {},
   "outputs": [
    {
     "name": "stdout",
     "output_type": "stream",
     "text": [
      "19.3 µs ± 357 ns per loop (mean ± std. dev. of 7 runs, 10000 loops each)\n"
     ]
    }
   ],
   "source": [
    "%%timeit\n",
    "# tmp = (b <= 4).astype('int')\n",
    "for k in sig.keys():\n",
    "    sig[k] = int(b[k])"
   ]
  },
  {
   "cell_type": "code",
   "execution_count": 59,
   "metadata": {},
   "outputs": [],
   "source": [
    "with DataManager(\"data/test.db\") as dm:\n",
    "    data = dm.get_data([\"XLF\", \"XBI\", \"XLI\"], \"2010-01-01\", None)"
   ]
  },
  {
   "cell_type": "code",
   "execution_count": 60,
   "metadata": {},
   "outputs": [
    {
     "data": {
      "text/html": [
       "<div>\n",
       "<style scoped>\n",
       "    .dataframe tbody tr th:only-of-type {\n",
       "        vertical-align: middle;\n",
       "    }\n",
       "\n",
       "    .dataframe tbody tr th {\n",
       "        vertical-align: top;\n",
       "    }\n",
       "\n",
       "    .dataframe thead tr th {\n",
       "        text-align: left;\n",
       "    }\n",
       "\n",
       "    .dataframe thead tr:last-of-type th {\n",
       "        text-align: right;\n",
       "    }\n",
       "</style>\n",
       "<table border=\"1\" class=\"dataframe\">\n",
       "  <thead>\n",
       "    <tr>\n",
       "      <th></th>\n",
       "      <th colspan=\"3\" halign=\"left\">Close</th>\n",
       "      <th colspan=\"3\" halign=\"left\">High</th>\n",
       "      <th colspan=\"3\" halign=\"left\">Low</th>\n",
       "      <th colspan=\"3\" halign=\"left\">Open</th>\n",
       "      <th colspan=\"3\" halign=\"left\">Volume</th>\n",
       "    </tr>\n",
       "    <tr>\n",
       "      <th></th>\n",
       "      <th>XBI</th>\n",
       "      <th>XLF</th>\n",
       "      <th>XLI</th>\n",
       "      <th>XBI</th>\n",
       "      <th>XLF</th>\n",
       "      <th>XLI</th>\n",
       "      <th>XBI</th>\n",
       "      <th>XLF</th>\n",
       "      <th>XLI</th>\n",
       "      <th>XBI</th>\n",
       "      <th>XLF</th>\n",
       "      <th>XLI</th>\n",
       "      <th>XBI</th>\n",
       "      <th>XLF</th>\n",
       "      <th>XLI</th>\n",
       "    </tr>\n",
       "    <tr>\n",
       "      <th>Date</th>\n",
       "      <th></th>\n",
       "      <th></th>\n",
       "      <th></th>\n",
       "      <th></th>\n",
       "      <th></th>\n",
       "      <th></th>\n",
       "      <th></th>\n",
       "      <th></th>\n",
       "      <th></th>\n",
       "      <th></th>\n",
       "      <th></th>\n",
       "      <th></th>\n",
       "      <th></th>\n",
       "      <th></th>\n",
       "      <th></th>\n",
       "    </tr>\n",
       "  </thead>\n",
       "  <tbody>\n",
       "    <tr>\n",
       "      <th>2010-01-04</th>\n",
       "      <td>17.653</td>\n",
       "      <td>10.477</td>\n",
       "      <td>24.288</td>\n",
       "      <td>17.653</td>\n",
       "      <td>10.505</td>\n",
       "      <td>24.288</td>\n",
       "      <td>17.490</td>\n",
       "      <td>10.335</td>\n",
       "      <td>23.979</td>\n",
       "      <td>17.591</td>\n",
       "      <td>10.358</td>\n",
       "      <td>24.091</td>\n",
       "      <td>280040</td>\n",
       "      <td>105873717</td>\n",
       "      <td>8711637</td>\n",
       "    </tr>\n",
       "    <tr>\n",
       "      <th>2010-01-05</th>\n",
       "      <td>17.721</td>\n",
       "      <td>10.667</td>\n",
       "      <td>24.375</td>\n",
       "      <td>17.818</td>\n",
       "      <td>10.667</td>\n",
       "      <td>24.398</td>\n",
       "      <td>17.610</td>\n",
       "      <td>10.450</td>\n",
       "      <td>24.171</td>\n",
       "      <td>17.657</td>\n",
       "      <td>10.462</td>\n",
       "      <td>24.252</td>\n",
       "      <td>607899</td>\n",
       "      <td>110224473</td>\n",
       "      <td>9627173</td>\n",
       "    </tr>\n",
       "    <tr>\n",
       "      <th>2010-01-06</th>\n",
       "      <td>17.958</td>\n",
       "      <td>10.689</td>\n",
       "      <td>24.425</td>\n",
       "      <td>17.978</td>\n",
       "      <td>10.735</td>\n",
       "      <td>24.450</td>\n",
       "      <td>17.718</td>\n",
       "      <td>10.587</td>\n",
       "      <td>24.307</td>\n",
       "      <td>17.718</td>\n",
       "      <td>10.662</td>\n",
       "      <td>24.316</td>\n",
       "      <td>564259</td>\n",
       "      <td>85990320</td>\n",
       "      <td>6245837</td>\n",
       "    </tr>\n",
       "    <tr>\n",
       "      <th>2010-01-07</th>\n",
       "      <td>17.958</td>\n",
       "      <td>10.920</td>\n",
       "      <td>24.691</td>\n",
       "      <td>18.068</td>\n",
       "      <td>10.984</td>\n",
       "      <td>24.725</td>\n",
       "      <td>17.828</td>\n",
       "      <td>10.689</td>\n",
       "      <td>24.298</td>\n",
       "      <td>17.984</td>\n",
       "      <td>10.711</td>\n",
       "      <td>24.382</td>\n",
       "      <td>264134</td>\n",
       "      <td>134260134</td>\n",
       "      <td>14129646</td>\n",
       "    </tr>\n",
       "    <tr>\n",
       "      <th>2010-01-08</th>\n",
       "      <td>18.039</td>\n",
       "      <td>10.854</td>\n",
       "      <td>25.085</td>\n",
       "      <td>18.039</td>\n",
       "      <td>10.920</td>\n",
       "      <td>25.092</td>\n",
       "      <td>17.811</td>\n",
       "      <td>10.772</td>\n",
       "      <td>24.683</td>\n",
       "      <td>17.945</td>\n",
       "      <td>10.863</td>\n",
       "      <td>24.700</td>\n",
       "      <td>606361</td>\n",
       "      <td>127426188</td>\n",
       "      <td>9403619</td>\n",
       "    </tr>\n",
       "  </tbody>\n",
       "</table>\n",
       "</div>"
      ],
      "text/plain": [
       "             Close                    High                     Low          \\\n",
       "               XBI     XLF     XLI     XBI     XLF     XLI     XBI     XLF   \n",
       "Date                                                                         \n",
       "2010-01-04  17.653  10.477  24.288  17.653  10.505  24.288  17.490  10.335   \n",
       "2010-01-05  17.721  10.667  24.375  17.818  10.667  24.398  17.610  10.450   \n",
       "2010-01-06  17.958  10.689  24.425  17.978  10.735  24.450  17.718  10.587   \n",
       "2010-01-07  17.958  10.920  24.691  18.068  10.984  24.725  17.828  10.689   \n",
       "2010-01-08  18.039  10.854  25.085  18.039  10.920  25.092  17.811  10.772   \n",
       "\n",
       "                      Open                  Volume                       \n",
       "               XLI     XBI     XLF     XLI     XBI        XLF       XLI  \n",
       "Date                                                                     \n",
       "2010-01-04  23.979  17.591  10.358  24.091  280040  105873717   8711637  \n",
       "2010-01-05  24.171  17.657  10.462  24.252  607899  110224473   9627173  \n",
       "2010-01-06  24.307  17.718  10.662  24.316  564259   85990320   6245837  \n",
       "2010-01-07  24.298  17.984  10.711  24.382  264134  134260134  14129646  \n",
       "2010-01-08  24.683  17.945  10.863  24.700  606361  127426188   9403619  "
      ]
     },
     "execution_count": 60,
     "metadata": {},
     "output_type": "execute_result"
    }
   ],
   "source": [
    "data.head()"
   ]
  },
  {
   "cell_type": "code",
   "execution_count": 61,
   "metadata": {},
   "outputs": [],
   "source": [
    "dates = data.index.tolist()\n",
    "shifted = [y for y in [x - timedelta(days=30) for x in dates] if y >= dates[0]]\n",
    "matched = [next(date for date, date_next in zip(dates[:-1], dates[1:]) if date_next > x) for x in shifted]               "
   ]
  },
  {
   "cell_type": "code",
   "execution_count": 75,
   "metadata": {},
   "outputs": [],
   "source": [
    "ret = data[-len(matched):][\"Close\"].values / data.loc[matched][\"Close\"].values - 1\n",
    "columns = pd.MultiIndex.from_tuples([(\"Return\", x) for x in data.columns.levels[1].tolist()])\n",
    "to_append = pd.DataFrame(ret, index=data[-len(matched):].index, columns=columns)\n",
    "a = pd.concat([data, to_append], axis=1)\n"
   ]
  },
  {
   "cell_type": "code",
   "execution_count": 89,
   "metadata": {},
   "outputs": [],
   "source": [
    "rets = pd.concat([data[\"Close\"].pct_change(periods=120), data[\"Close\"].pct_change(periods=-30)], \n",
    "                 axis=1, keys=['x', 'y']).dropna().reorder_levels([1, 0], axis=1).sort_index(axis=1)"
   ]
  },
  {
   "cell_type": "code",
   "execution_count": 107,
   "metadata": {},
   "outputs": [],
   "source": [
    "tickers = rets.columns.levels[0].tolist()"
   ]
  },
  {
   "cell_type": "code",
   "execution_count": 115,
   "metadata": {},
   "outputs": [
    {
     "data": {
      "text/plain": [
       "<matplotlib.axes._subplots.AxesSubplot at 0x119cb6fd0>"
      ]
     },
     "execution_count": 115,
     "metadata": {},
     "output_type": "execute_result"
    },
    {
     "data": {
      "image/png": "[encoded data removed]",
      "text/plain": [
       "<Figure size 432x288 with 1 Axes>"
      ]
     },
     "metadata": {},
     "output_type": "display_data"
    }
   ],
   "source": [
    "rets[tickers[2]].plot.scatter(x='x', y='y')"
   ]
  }
 ],
 "metadata": {
  "kernelspec": {
   "display_name": "Python 3",
   "language": "python",
   "name": "python3"
  },
  "language_info": {
   "codemirror_mode": {
    "name": "ipython",
    "version": 3
   },
   "file_extension": ".py",
   "mimetype": "text/x-python",
   "name": "python",
   "nbconvert_exporter": "python",
   "pygments_lexer": "ipython3",
   "version": "3.6.6"
  }
 },
 "nbformat": 4,
 "nbformat_minor": 2
}
